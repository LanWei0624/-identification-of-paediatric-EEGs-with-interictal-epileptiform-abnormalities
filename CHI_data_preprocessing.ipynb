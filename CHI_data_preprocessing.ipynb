{
 "cells": [
  {
   "cell_type": "code",
   "execution_count": null,
   "metadata": {},
   "outputs": [],
   "source": [
    "import os\n",
    "import numpy as np\n",
    "from scipy import stats\n",
    "import mne\n",
    "import matplotlib.pyplot as plt\n",
    "%matplotlib qt"
   ]
  },
  {
   "cell_type": "markdown",
   "metadata": {},
   "source": [
    "### List of all pure bckg files"
   ]
  },
  {
   "cell_type": "code",
   "execution_count": null,
   "metadata": {},
   "outputs": [],
   "source": [
    "def read_edf(file_dir):   \n",
    "    pickle_L=[]   \n",
    "    pickle_name=[]\n",
    "    for dirpath, dirnames, filenames in os.walk(file_dir):  \n",
    "        for file in filenames :  \n",
    "            if os.path.splitext(file)[1] == '.edf':  \n",
    "                pickle_L.append(os.path.join(dirpath, file))  \n",
    "                pickle_name.append(os.path.join(file))  \n",
    "            \n",
    "    #return L \n",
    "    return  pickle_L\n",
    "    #return name    "
   ]
  },
  {
   "cell_type": "code",
   "execution_count": null,
   "metadata": {},
   "outputs": [],
   "source": [
    "file_path='F:/Niamh Collins - EDF/Normal - Code 1 - 351/'"
   ]
  },
  {
   "cell_type": "code",
   "execution_count": null,
   "metadata": {},
   "outputs": [],
   "source": [
    "file_name=read_edf(file_path)\n",
    "file_name"
   ]
  },
  {
   "cell_type": "code",
   "execution_count": null,
   "metadata": {},
   "outputs": [],
   "source": [
    "## Channels to be used\n",
    "chl = ['C3','C4','CZ','F3','F4','F7','F8','FZ','FP1','FP2','FPZ','O1','O2','P3','P4','PZ','T3','T4','T5','T6']"
   ]
  },
  {
   "cell_type": "code",
   "execution_count": null,
   "metadata": {},
   "outputs": [],
   "source": [
    "len(chl)"
   ]
  },
  {
   "cell_type": "code",
   "execution_count": null,
   "metadata": {},
   "outputs": [],
   "source": [
    "#path.split"
   ]
  },
  {
   "cell_type": "code",
   "execution_count": null,
   "metadata": {},
   "outputs": [],
   "source": [
    "#path.split('/')[4][:-4]"
   ]
  },
  {
   "cell_type": "markdown",
   "metadata": {},
   "source": [
    "### Making Spectrograms from pure bckg files"
   ]
  },
  {
   "cell_type": "code",
   "execution_count": null,
   "metadata": {},
   "outputs": [],
   "source": [
    "#path.split('/')"
   ]
  },
  {
   "cell_type": "code",
   "execution_count": null,
   "metadata": {},
   "outputs": [],
   "source": [
    "plt.ioff()\n",
    "save_img = \"Dataset/Spectrograms/CHI_normal/\"\n",
    "chl = ['C3','C4','CZ','F3','F4','F7','F8','FZ','FP1','FP2','FPZ','O1','O2','P3','P4','PZ','T3','T4','T5','T6']\n",
    "for path in file_name:\n",
    "    for channel_name in range(0, len(chl)):\n",
    "        bck = mne.io.read_raw_edf(path[:-3] + \"edf\", preload=True, verbose=0).pick_channels([chl[channel_name]])\n",
    "        bck.notch_filter(freqs=np.arange(60,128,50), verbose=0)\n",
    "        bck.filter(l_freq=0.1, h_freq=64, iir_params=None, method=\"iir\", verbose = 0)\n",
    "        epochs = mne.make_fixed_length_epochs(bck, duration=30, preload=True, verbose = 0)\n",
    "        k=0\n",
    "        for epoch in list(epochs):\n",
    "            epoch_toplot = stats.trim_mean(epoch, 0.2)\n",
    "            plt.figure()       \n",
    "            ax = plt.axes()     \n",
    "            ax.set_axis_off()   \n",
    "            plt.specgram(epoch_toplot, Fs=256, NFFT=256, window=np.hamming(256), noverlap=128, cmap='jet')   #generating spectrogram\n",
    "            fname = save_img + chl[channel_name]+\"/\"+path.split('/')[3][:-4] +\"_\"+ chl[channel_name]+\"-spec_\" + str(k) + \".jpg\"\n",
    "            plt.savefig(fname,transparent=True,pad_inches=0,bbox_inches='tight')\n",
    "            plt.close()\n",
    "            k=k+1\n"
   ]
  },
  {
   "cell_type": "code",
   "execution_count": null,
   "metadata": {},
   "outputs": [],
   "source": []
  },
  {
   "cell_type": "code",
   "execution_count": null,
   "metadata": {},
   "outputs": [],
   "source": []
  },
  {
   "cell_type": "code",
   "execution_count": null,
   "metadata": {},
   "outputs": [],
   "source": []
  }
 ],
 "metadata": {
  "interpreter": {
   "hash": "efb29f29dfabb56190f8cf72ce38b33e8592a7bd383bbfc4d3bde940ec847c1e"
  },
  "kernelspec": {
   "display_name": "Python 3",
   "language": "python",
   "name": "python3"
  },
  "language_info": {
   "codemirror_mode": {
    "name": "ipython",
    "version": 3
   },
   "file_extension": ".py",
   "mimetype": "text/x-python",
   "name": "python",
   "nbconvert_exporter": "python",
   "pygments_lexer": "ipython3",
   "version": "3.7.3"
  }
 },
 "nbformat": 4,
 "nbformat_minor": 2
}
